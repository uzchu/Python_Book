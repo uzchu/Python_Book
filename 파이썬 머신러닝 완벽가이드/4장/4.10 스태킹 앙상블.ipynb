{
 "cells": [
  {
   "cell_type": "markdown",
   "id": "cfaabdfd",
   "metadata": {},
   "source": [
    "데이터 로딩"
   ]
  },
  {
   "cell_type": "code",
   "execution_count": 1,
   "id": "c1aa9e44",
   "metadata": {},
   "outputs": [],
   "source": [
    "import numpy as np\n",
    "\n",
    "from sklearn.neighbors import KNeighborsClassifier\n",
    "from sklearn.ensemble import RandomForestClassifier\n",
    "from sklearn.ensemble import AdaBoostClassifier\n",
    "from sklearn.tree import DecisionTreeClassifier\n",
    "from sklearn.linear_model import LogisticRegression\n",
    "\n",
    "from sklearn.datasets import load_breast_cancer\n",
    "from sklearn.model_selection import train_test_split\n",
    "from sklearn.metrics import accuracy_score\n",
    "\n",
    "cancer_data = load_breast_cancer()\n",
    "\n",
    "X_data = cancer_data.data\n",
    "y_label = cancer_data.target\n",
    "\n",
    "X_train, X_test, y_train, y_test = train_test_split(X_data, y_label, test_size=0.2, random_state=0)"
   ]
  },
  {
   "cell_type": "markdown",
   "id": "c0340bef",
   "metadata": {},
   "source": [
    "개별 Classifier와 최종 Stacking 데이터를 학습할 메타 Classifier 생성"
   ]
  },
  {
   "cell_type": "code",
   "execution_count": 3,
   "id": "b33e0fbc",
   "metadata": {},
   "outputs": [],
   "source": [
    "knn_clf = KNeighborsClassifier(n_neighbors=4)\n",
    "rf_clf = RandomForestClassifier(n_estimators=100, random_state=0)\n",
    "dt_clf = DecisionTreeClassifier()\n",
    "ada_clf = AdaBoostClassifier(n_estimators=100)\n",
    "\n",
    "lr_final = LogisticRegression(C=10)"
   ]
  },
  {
   "cell_type": "markdown",
   "id": "2c084836",
   "metadata": {},
   "source": [
    "개별 Classifier 학습/예측/평가"
   ]
  },
  {
   "cell_type": "code",
   "execution_count": 4,
   "id": "37e8c563",
   "metadata": {},
   "outputs": [
    {
     "data": {
      "text/plain": [
       "AdaBoostClassifier(n_estimators=100)"
      ]
     },
     "execution_count": 4,
     "metadata": {},
     "output_type": "execute_result"
    }
   ],
   "source": [
    "knn_clf.fit(X_train, y_train)\n",
    "rf_clf.fit(X_train, y_train)\n",
    "dt_clf.fit(X_train, y_train)\n",
    "ada_clf.fit(X_train, y_train)"
   ]
  },
  {
   "cell_type": "code",
   "execution_count": 5,
   "id": "c6f8300f",
   "metadata": {},
   "outputs": [
    {
     "name": "stdout",
     "output_type": "stream",
     "text": [
      "knn 정확도:0.9211\n",
      "rf 정확도:0.9649\n",
      "dt 정확도:0.9123\n",
      "ada 정확도:0.9561\n"
     ]
    }
   ],
   "source": [
    "knn_pred = knn_clf.predict(X_test)\n",
    "rf_pred = rf_clf.predict(X_test)\n",
    "dt_pred = dt_clf.predict(X_test)\n",
    "ada_pred = ada_clf.predict(X_test)\n",
    "\n",
    "print(f'knn 정확도:{accuracy_score(y_test, knn_pred):.4f}')\n",
    "print(f'rf 정확도:{accuracy_score(y_test, rf_pred):.4f}')\n",
    "print(f'dt 정확도:{accuracy_score(y_test, dt_pred):.4f}')\n",
    "print(f'ada 정확도:{accuracy_score(y_test, ada_pred):.4f}')"
   ]
  },
  {
   "cell_type": "code",
   "execution_count": 6,
   "id": "12d0d653",
   "metadata": {},
   "outputs": [
    {
     "name": "stdout",
     "output_type": "stream",
     "text": [
      "(4, 114)\n",
      "(114, 4)\n"
     ]
    }
   ],
   "source": [
    "pred = np.array([knn_pred, rf_pred, dt_pred, ada_pred])\n",
    "print(pred.shape)\n",
    "\n",
    "pred = np.transpose(pred)\n",
    "print(pred.shape)"
   ]
  },
  {
   "cell_type": "code",
   "execution_count": 7,
   "id": "52b46f7b",
   "metadata": {},
   "outputs": [
    {
     "name": "stdout",
     "output_type": "stream",
     "text": [
      "최종 메타 모델의 예측 정확도 : 0.9737\n"
     ]
    }
   ],
   "source": [
    "lr_final.fit(pred, y_test)\n",
    "final = lr_final.predict(pred)\n",
    "\n",
    "print(f'최종 메타 모델의 예측 정확도 : {accuracy_score(y_test, final):.4f}')"
   ]
  },
  {
   "cell_type": "markdown",
   "id": "05e0920e",
   "metadata": {},
   "source": [
    "cv셋 기반의 스태킹"
   ]
  },
  {
   "cell_type": "code",
   "execution_count": 13,
   "id": "e430c624",
   "metadata": {},
   "outputs": [],
   "source": [
    "from sklearn.model_selection import KFold\n",
    "from sklearn.metrics import mean_absolute_error\n",
    "\n",
    "def get_stacking_base_datasets(model, X_train_n, y_train_n, X_test_n, n_folds):\n",
    "    kf = KFold(n_splits=n_folds, shuffle=False)\n",
    "    \n",
    "    train_fold_pred = np.zeros((X_train_n.shape[0],1))\n",
    "    test_pred = np.zeros((X_test_n.shape[0], n_folds))\n",
    "    print(model.__class__.__name__, 'model 시작')\n",
    "    \n",
    "    for folder_counter, (train_index, valid_index) in enumerate(kf.split(X_train_n)):\n",
    "        print('폴드세트 :', folder_counter, '시작')\n",
    "        X_tr = X_train_n[train_index]\n",
    "        y_tr = y_train_n[train_index]\n",
    "        X_te = X_train_n[valid_index]\n",
    "        \n",
    "        model.fit(X_tr, y_tr)\n",
    "        \n",
    "        train_fold_pred[valid_index, :] = model.predict(X_te).reshape(-1,1)\n",
    "        \n",
    "        test_pred[:, folder_counter] = model.predict(X_test_n)\n",
    "        \n",
    "    test_pred_mean = np.mean(test_pred, axis=1).reshape(-1,1)\n",
    "    \n",
    "    return train_fold_pred, test_pred_mean\n",
    "        "
   ]
  },
  {
   "cell_type": "code",
   "execution_count": 18,
   "id": "79e8fafb",
   "metadata": {},
   "outputs": [
    {
     "name": "stdout",
     "output_type": "stream",
     "text": [
      "KNeighborsClassifier model 시작\n",
      "폴드세트 : 0 시작\n",
      "폴드세트 : 1 시작\n",
      "폴드세트 : 2 시작\n",
      "폴드세트 : 3 시작\n",
      "폴드세트 : 4 시작\n",
      "폴드세트 : 5 시작\n",
      "폴드세트 : 6 시작\n",
      "RandomForestClassifier model 시작\n",
      "폴드세트 : 0 시작\n",
      "폴드세트 : 1 시작\n",
      "폴드세트 : 2 시작\n",
      "폴드세트 : 3 시작\n",
      "폴드세트 : 4 시작\n",
      "폴드세트 : 5 시작\n",
      "폴드세트 : 6 시작\n",
      "RandomForestClassifier model 시작\n",
      "폴드세트 : 0 시작\n",
      "폴드세트 : 1 시작\n",
      "폴드세트 : 2 시작\n",
      "폴드세트 : 3 시작\n",
      "폴드세트 : 4 시작\n",
      "폴드세트 : 5 시작\n",
      "폴드세트 : 6 시작\n",
      "RandomForestClassifier model 시작\n",
      "폴드세트 : 0 시작\n",
      "폴드세트 : 1 시작\n",
      "폴드세트 : 2 시작\n",
      "폴드세트 : 3 시작\n",
      "폴드세트 : 4 시작\n",
      "폴드세트 : 5 시작\n",
      "폴드세트 : 6 시작\n"
     ]
    }
   ],
   "source": [
    "knn_train, knn_test = get_stacking_base_datasets(knn_clf, X_train, y_train, X_test, 7)\n",
    "rf_train, rf_test = get_stacking_base_datasets(rf_clf, X_train, y_train, X_test, 7)\n",
    "dt_train, dt_test = get_stacking_base_datasets(rf_clf, X_train, y_train, X_test, 7)\n",
    "ada_train, ada_test = get_stacking_base_datasets(rf_clf, X_train, y_train, X_test, 7)"
   ]
  },
  {
   "cell_type": "code",
   "execution_count": 19,
   "id": "d7b2f5d3",
   "metadata": {},
   "outputs": [
    {
     "name": "stdout",
     "output_type": "stream",
     "text": [
      "원본 학습 피처데이터 shape: (455, 30) 원본 테스트 피처 shape: (114, 30)\n",
      "스태킹 학습 피처데이터 shape: (455, 4) 스태킹 테스트 피처 데이터 shape: (114, 4)\n"
     ]
    }
   ],
   "source": [
    "Stack_final_X_train = np.concatenate((knn_train, rf_train, dt_train, ada_train), axis=1)\n",
    "Stack_final_X_test = np.concatenate((knn_test, rf_test, dt_test, ada_test), axis=1)\n",
    "print('원본 학습 피처데이터 shape:',X_train.shape, '원본 테스트 피처 shape:',X_test.shape)\n",
    "print('스태킹 학습 피처데이터 shape:',Stack_final_X_train.shape,\n",
    "     '스태킹 테스트 피처 데이터 shape:',Stack_final_X_test.shape)"
   ]
  },
  {
   "cell_type": "code",
   "execution_count": 20,
   "id": "ac1132a9",
   "metadata": {},
   "outputs": [],
   "source": [
    "lr_final.fit(Stack_final_X_train,y_train)\n",
    "stack_final = lr_final.predict(Stack_final_X_test)"
   ]
  },
  {
   "cell_type": "code",
   "execution_count": 21,
   "id": "43bfc040",
   "metadata": {},
   "outputs": [
    {
     "name": "stdout",
     "output_type": "stream",
     "text": [
      "최종 메타 모델의 예측 정확도:0.9649\n"
     ]
    }
   ],
   "source": [
    "print(f'최종 메타 모델의 예측 정확도:{accuracy_score(y_test,stack_final):.4f}')"
   ]
  },
  {
   "cell_type": "code",
   "execution_count": null,
   "id": "562d1d9c",
   "metadata": {},
   "outputs": [],
   "source": []
  },
  {
   "cell_type": "code",
   "execution_count": null,
   "id": "cc35884f",
   "metadata": {},
   "outputs": [],
   "source": []
  },
  {
   "cell_type": "code",
   "execution_count": null,
   "id": "274f1a85",
   "metadata": {},
   "outputs": [],
   "source": []
  },
  {
   "cell_type": "code",
   "execution_count": null,
   "id": "5414e583",
   "metadata": {},
   "outputs": [],
   "source": []
  },
  {
   "cell_type": "code",
   "execution_count": null,
   "id": "1a024f91",
   "metadata": {},
   "outputs": [],
   "source": []
  },
  {
   "cell_type": "code",
   "execution_count": null,
   "id": "b1c656bf",
   "metadata": {},
   "outputs": [],
   "source": []
  }
 ],
 "metadata": {
  "kernelspec": {
   "display_name": "Python 3",
   "language": "python",
   "name": "python3"
  },
  "language_info": {
   "codemirror_mode": {
    "name": "ipython",
    "version": 3
   },
   "file_extension": ".py",
   "mimetype": "text/x-python",
   "name": "python",
   "nbconvert_exporter": "python",
   "pygments_lexer": "ipython3",
   "version": "3.9.5"
  }
 },
 "nbformat": 4,
 "nbformat_minor": 5
}
