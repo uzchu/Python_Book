{
 "cells": [
  {
   "cell_type": "code",
   "execution_count": 1,
   "metadata": {},
   "outputs": [
    {
     "name": "stderr",
     "output_type": "stream",
     "text": [
      "Using TensorFlow backend.\n"
     ]
    }
   ],
   "source": [
    "from keras.datasets import imdb\n",
    "\n",
    "(train_data, train_labels), (test_data, test_labels) = imdb.load_data(num_words=10000)"
   ]
  },
  {
   "cell_type": "code",
   "execution_count": 4,
   "metadata": {},
   "outputs": [],
   "source": [
    "import numpy as np\n",
    "\n",
    "def vectorize_sequences(sequences, dimension=10000):\n",
    "    results = np.zeros((len(sequences),dimension))\n",
    "    for i, sequence in enumerate(sequences):\n",
    "        results[i, sequence] = 1.\n",
    "    return results\n",
    "\n",
    "x_train = vectorize_sequences(train_data)\n",
    "x_test = vectorize_sequences(test_data)"
   ]
  },
  {
   "cell_type": "code",
   "execution_count": 5,
   "metadata": {},
   "outputs": [],
   "source": [
    "y_train = np.asarray(train_labels).astype('float32')\n",
    "y_test = np.asarray(test_labels).astype('float32')"
   ]
  },
  {
   "cell_type": "code",
   "execution_count": 6,
   "metadata": {},
   "outputs": [],
   "source": [
    "from keras import models\n",
    "from keras import layers\n",
    "\n",
    "model = models.Sequential()\n",
    "model.add(layers.Dense(16, activation='relu', input_shape=(10000,)))\n",
    "model.add(layers.Dense(16, activation='relu'))\n",
    "model.add(layers.Dense(1, activation='sigmoid'))"
   ]
  },
  {
   "cell_type": "code",
   "execution_count": 9,
   "metadata": {},
   "outputs": [],
   "source": [
    "model.compile(optimizer='rmsprop',\n",
    "             loss='binary_crossentropy',\n",
    "             metrics=['accuracy'])"
   ]
  },
  {
   "cell_type": "code",
   "execution_count": 10,
   "metadata": {},
   "outputs": [],
   "source": [
    "x_val = x_train[:10000]\n",
    "partial_x_train = x_train[10000:]\n",
    "y_val = y_train[:10000]\n",
    "partial_y_train = y_train[10000:]"
   ]
  },
  {
   "cell_type": "code",
   "execution_count": 11,
   "metadata": {},
   "outputs": [
    {
     "name": "stdout",
     "output_type": "stream",
     "text": [
      "Train on 15000 samples, validate on 10000 samples\n",
      "Epoch 1/20\n",
      "15000/15000 [==============================] - 2s 166us/step - loss: 0.4908 - acc: 0.7937 - val_loss: 0.3700 - val_acc: 0.8652\n",
      "Epoch 2/20\n",
      "15000/15000 [==============================] - 2s 130us/step - loss: 0.2903 - acc: 0.9038 - val_loss: 0.3097 - val_acc: 0.8784\n",
      "Epoch 3/20\n",
      "15000/15000 [==============================] - 2s 132us/step - loss: 0.2142 - acc: 0.9289 - val_loss: 0.3199 - val_acc: 0.8682\n",
      "Epoch 4/20\n",
      "15000/15000 [==============================] - 2s 131us/step - loss: 0.1693 - acc: 0.9451 - val_loss: 0.2818 - val_acc: 0.8858\n",
      "Epoch 5/20\n",
      "15000/15000 [==============================] - 2s 131us/step - loss: 0.1380 - acc: 0.9557 - val_loss: 0.2823 - val_acc: 0.8883\n",
      "Epoch 6/20\n",
      "15000/15000 [==============================] - 2s 130us/step - loss: 0.1132 - acc: 0.9654 - val_loss: 0.2963 - val_acc: 0.8867\n",
      "Epoch 7/20\n",
      "15000/15000 [==============================] - 2s 131us/step - loss: 0.0915 - acc: 0.9737 - val_loss: 0.3219 - val_acc: 0.8832\n",
      "Epoch 8/20\n",
      "15000/15000 [==============================] - 2s 130us/step - loss: 0.0749 - acc: 0.9795 - val_loss: 0.3382 - val_acc: 0.8815\n",
      "Epoch 9/20\n",
      "15000/15000 [==============================] - 2s 130us/step - loss: 0.0659 - acc: 0.9824 - val_loss: 0.3626 - val_acc: 0.8785\n",
      "Epoch 10/20\n",
      "15000/15000 [==============================] - 2s 131us/step - loss: 0.0502 - acc: 0.9886 - val_loss: 0.3877 - val_acc: 0.8786\n",
      "Epoch 11/20\n",
      "15000/15000 [==============================] - 2s 131us/step - loss: 0.0408 - acc: 0.9904 - val_loss: 0.4579 - val_acc: 0.8693\n",
      "Epoch 12/20\n",
      "15000/15000 [==============================] - 2s 131us/step - loss: 0.0334 - acc: 0.9927 - val_loss: 0.4457 - val_acc: 0.8736\n",
      "Epoch 13/20\n",
      "15000/15000 [==============================] - 2s 131us/step - loss: 0.0274 - acc: 0.9943 - val_loss: 0.4783 - val_acc: 0.8729\n",
      "Epoch 14/20\n",
      "15000/15000 [==============================] - 2s 131us/step - loss: 0.0222 - acc: 0.9951 - val_loss: 0.5113 - val_acc: 0.8728\n",
      "Epoch 15/20\n",
      "15000/15000 [==============================] - 2s 131us/step - loss: 0.0205 - acc: 0.9958 - val_loss: 0.5397 - val_acc: 0.8718\n",
      "Epoch 16/20\n",
      "15000/15000 [==============================] - 2s 132us/step - loss: 0.0099 - acc: 0.9993 - val_loss: 0.5700 - val_acc: 0.8701\n",
      "Epoch 17/20\n",
      "15000/15000 [==============================] - 2s 130us/step - loss: 0.0141 - acc: 0.9971 - val_loss: 0.6131 - val_acc: 0.8687\n",
      "Epoch 18/20\n",
      "15000/15000 [==============================] - 2s 141us/step - loss: 0.0056 - acc: 0.9997 - val_loss: 0.6408 - val_acc: 0.8674\n",
      "Epoch 19/20\n",
      "15000/15000 [==============================] - 2s 138us/step - loss: 0.0078 - acc: 0.9988 - val_loss: 0.6740 - val_acc: 0.8671\n",
      "Epoch 20/20\n",
      "15000/15000 [==============================] - 2s 136us/step - loss: 0.0054 - acc: 0.9991 - val_loss: 0.7097 - val_acc: 0.8668\n"
     ]
    }
   ],
   "source": [
    "model.compile(optimizer='rmsprop',\n",
    "             loss='binary_crossentropy',\n",
    "             metrics=['acc'])\n",
    "\n",
    "history = model.fit(partial_x_train,\n",
    "                   partial_y_train,\n",
    "                   epochs=20,\n",
    "                   batch_size=512,\n",
    "                   validation_data=(x_val,y_val))"
   ]
  },
  {
   "cell_type": "code",
   "execution_count": 12,
   "metadata": {},
   "outputs": [
    {
     "data": {
      "image/png": "[encoded data removed]",
      "text/plain": [
       "<Figure size 432x288 with 1 Axes>"
      ]
     },
     "metadata": {
      "needs_background": "light"
     },
     "output_type": "display_data"
    }
   ],
   "source": [
    "import matplotlib.pyplot as plt\n",
    "\n",
    "history_dict = history.history\n",
    "loss = history_dict['loss']\n",
    "val_loss = history_dict['val_loss']\n",
    "\n",
    "epochs = range(1, len(loss) + 1)\n",
    "\n",
    "plt.plot(epochs, loss, 'bo', label='Training loss')\n",
    "plt.plot(epochs, val_loss, 'b', label='Validation loss')\n",
    "plt.title('Training and validation loss')\n",
    "plt.xlabel('Epochs')\n",
    "plt.ylabel('Loss')\n",
    "plt.legend()\n",
    "\n",
    "plt.show()"
   ]
  },
  {
   "cell_type": "code",
   "execution_count": 13,
   "metadata": {},
   "outputs": [
    {
     "data": {
      "image/png": "[encoded data removed]",
      "text/plain": [
       "<Figure size 432x288 with 1 Axes>"
      ]
     },
     "metadata": {
      "needs_background": "light"
     },
     "output_type": "display_data"
    }
   ],
   "source": [
    "plt.clf()\n",
    "acc = history_dict['acc']\n",
    "val_acc = history_dict['val_acc']\n",
    "\n",
    "plt.plot(epochs, acc, 'bo', label='Training acc')\n",
    "plt.plot(epochs, val_acc, 'b', label='Validation acc')\n",
    "plt.title('Training and validation accuracy')\n",
    "plt.xlabel('Epochs')\n",
    "plt.ylabel('Accuracy')\n",
    "plt.legend()\n",
    "\n",
    "plt.show()"
   ]
  },
  {
   "cell_type": "code",
   "execution_count": 14,
   "metadata": {},
   "outputs": [
    {
     "name": "stdout",
     "output_type": "stream",
     "text": [
      "Epoch 1/4\n",
      "25000/25000 [==============================] - 2s 92us/step - loss: 0.4888 - accuracy: 0.7982\n",
      "Epoch 2/4\n",
      "25000/25000 [==============================] - 2s 82us/step - loss: 0.2762 - accuracy: 0.9091\n",
      "Epoch 3/4\n",
      "25000/25000 [==============================] - 2s 83us/step - loss: 0.2072 - accuracy: 0.9274\n",
      "Epoch 4/4\n",
      "25000/25000 [==============================] - 2s 84us/step - loss: 0.1714 - accuracy: 0.9400\n",
      "25000/25000 [==============================] - 3s 135us/step\n"
     ]
    }
   ],
   "source": [
    "model = models.Sequential()\n",
    "model.add(layers.Dense(16,activation='relu',input_shape=(10000,)))\n",
    "model.add(layers.Dense(16,activation='relu'))\n",
    "model.add(layers.Dense(1,activation='sigmoid'))\n",
    "\n",
    "model.compile(optimizer='rmsprop',\n",
    "             loss='binary_crossentropy',\n",
    "             metrics=['accuracy'])\n",
    "\n",
    "model.fit(x_train, y_train, epochs=4, batch_size=512)\n",
    "results = model.evaluate(x_test, y_test)"
   ]
  },
  {
   "cell_type": "code",
   "execution_count": 15,
   "metadata": {},
   "outputs": [
    {
     "data": {
      "text/plain": [
       "[0.3114657020711899, 0.8770400285720825]"
      ]
     },
     "execution_count": 15,
     "metadata": {},
     "output_type": "execute_result"
    }
   ],
   "source": [
    "results"
   ]
  },
  {
   "cell_type": "code",
   "execution_count": 16,
   "metadata": {},
   "outputs": [
    {
     "data": {
      "text/plain": [
       "array([[0.23044507],\n",
       "       [0.9977108 ],\n",
       "       [0.8960351 ],\n",
       "       ...,\n",
       "       [0.18983513],\n",
       "       [0.11788813],\n",
       "       [0.7161397 ]], dtype=float32)"
      ]
     },
     "execution_count": 16,
     "metadata": {},
     "output_type": "execute_result"
    }
   ],
   "source": [
    "model.predict(x_test)"
   ]
  }
 ],
 "metadata": {
  "kernelspec": {
   "display_name": "Python 3",
   "language": "python",
   "name": "python3"
  },
  "language_info": {
   "codemirror_mode": {
    "name": "ipython",
    "version": 3
   },
   "file_extension": ".py",
   "mimetype": "text/x-python",
   "name": "python",
   "nbconvert_exporter": "python",
   "pygments_lexer": "ipython3",
   "version": "3.7.0"
  }
 },
 "nbformat": 4,
 "nbformat_minor": 4
}
