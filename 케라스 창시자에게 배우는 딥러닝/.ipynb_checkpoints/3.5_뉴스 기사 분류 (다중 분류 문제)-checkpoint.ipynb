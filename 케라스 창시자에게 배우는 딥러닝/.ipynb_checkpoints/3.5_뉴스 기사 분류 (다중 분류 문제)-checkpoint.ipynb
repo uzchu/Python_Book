{
 "cells": [
  {
   "cell_type": "code",
   "execution_count": 1,
   "metadata": {},
   "outputs": [
    {
     "name": "stderr",
     "output_type": "stream",
     "text": [
      "Using TensorFlow backend.\n"
     ]
    }
   ],
   "source": [
    "from keras.datasets import reuters\n",
    "\n",
    "(train_data, train_labels), (test_data, test_labels) = reuters.load_data(num_words=10000)"
   ]
  },
  {
   "cell_type": "code",
   "execution_count": 2,
   "metadata": {},
   "outputs": [],
   "source": [
    "import numpy as np\n",
    "\n",
    "def vectorize_sequences(sequences, dimension=10000):\n",
    "    results = np.zeros((len(sequences),dimension))\n",
    "    for i, sequence in enumerate(sequences):\n",
    "        results[i, sequence] = 1.\n",
    "    return results\n",
    "\n",
    "x_train = vectorize_sequences(train_data)\n",
    "x_test = vectorize_sequences(test_data)"
   ]
  },
  {
   "cell_type": "code",
   "execution_count": 3,
   "metadata": {},
   "outputs": [],
   "source": [
    "from keras.utils.np_utils import to_categorical\n",
    "\n",
    "y_train = to_categorical(train_labels)\n",
    "y_test = to_categorical(test_labels)"
   ]
  },
  {
   "cell_type": "code",
   "execution_count": 7,
   "metadata": {},
   "outputs": [],
   "source": [
    "from keras import models\n",
    "from keras import layers\n",
    "\n",
    "model = models.Sequential()\n",
    "model.add(layers.Dense(64, activation='relu',input_shape=(10000,)))\n",
    "model.add(layers.Dense(64, activation='relu'))\n",
    "model.add(layers.Dense(46, activation='softmax'))"
   ]
  },
  {
   "cell_type": "code",
   "execution_count": 8,
   "metadata": {},
   "outputs": [],
   "source": [
    "model.compile(optimizer='rmsprop',\n",
    "             loss='categorical_crossentropy',\n",
    "             metrics=['acc'])"
   ]
  },
  {
   "cell_type": "code",
   "execution_count": 9,
   "metadata": {},
   "outputs": [],
   "source": [
    "x_val=x_train[:1000]\n",
    "partial_x_train=x_train[1000:]\n",
    "\n",
    "y_val=y_train[:1000]\n",
    "partial_y_train = y_train[1000:]"
   ]
  },
  {
   "cell_type": "code",
   "execution_count": 10,
   "metadata": {
    "scrolled": false
   },
   "outputs": [
    {
     "name": "stdout",
     "output_type": "stream",
     "text": [
      "Train on 7982 samples, validate on 1000 samples\n",
      "Epoch 1/20\n",
      "7982/7982 [==============================] - 1s 159us/step - loss: 2.5866 - acc: 0.5167 - val_loss: 1.6901 - val_acc: 0.6470\n",
      "Epoch 2/20\n",
      "7982/7982 [==============================] - 1s 103us/step - loss: 1.4056 - acc: 0.7062 - val_loss: 1.2974 - val_acc: 0.7090\n",
      "Epoch 3/20\n",
      "7982/7982 [==============================] - 1s 104us/step - loss: 1.0468 - acc: 0.7722 - val_loss: 1.1327 - val_acc: 0.7520\n",
      "Epoch 4/20\n",
      "7982/7982 [==============================] - 1s 103us/step - loss: 0.8260 - acc: 0.8237 - val_loss: 1.0294 - val_acc: 0.7970\n",
      "Epoch 5/20\n",
      "7982/7982 [==============================] - 1s 103us/step - loss: 0.6580 - acc: 0.8675 - val_loss: 0.9688 - val_acc: 0.8010\n",
      "Epoch 6/20\n",
      "7982/7982 [==============================] - 1s 103us/step - loss: 0.5248 - acc: 0.8923 - val_loss: 0.9129 - val_acc: 0.8190\n",
      "Epoch 7/20\n",
      "7982/7982 [==============================] - 1s 108us/step - loss: 0.4202 - acc: 0.9157 - val_loss: 0.9129 - val_acc: 0.8050\n",
      "Epoch 8/20\n",
      "7982/7982 [==============================] - 1s 106us/step - loss: 0.3413 - acc: 0.9308 - val_loss: 0.8759 - val_acc: 0.8220\n",
      "Epoch 9/20\n",
      "7982/7982 [==============================] - 1s 106us/step - loss: 0.2794 - acc: 0.9415 - val_loss: 0.9009 - val_acc: 0.8160\n",
      "Epoch 10/20\n",
      "7982/7982 [==============================] - 1s 105us/step - loss: 0.2369 - acc: 0.9466 - val_loss: 0.9010 - val_acc: 0.8140\n",
      "Epoch 11/20\n",
      "7982/7982 [==============================] - 1s 105us/step - loss: 0.2062 - acc: 0.9501 - val_loss: 0.8976 - val_acc: 0.8260\n",
      "Epoch 12/20\n",
      "7982/7982 [==============================] - 1s 106us/step - loss: 0.1776 - acc: 0.9528 - val_loss: 0.9412 - val_acc: 0.8180\n",
      "Epoch 13/20\n",
      "7982/7982 [==============================] - 1s 104us/step - loss: 0.1621 - acc: 0.9530 - val_loss: 0.9592 - val_acc: 0.8210\n",
      "Epoch 14/20\n",
      "7982/7982 [==============================] - 1s 104us/step - loss: 0.1485 - acc: 0.9554 - val_loss: 1.0383 - val_acc: 0.8060\n",
      "Epoch 15/20\n",
      "7982/7982 [==============================] - 1s 111us/step - loss: 0.1407 - acc: 0.9536 - val_loss: 0.9815 - val_acc: 0.8190\n",
      "Epoch 16/20\n",
      "7982/7982 [==============================] - 1s 105us/step - loss: 0.1285 - acc: 0.9562 - val_loss: 0.9888 - val_acc: 0.8200\n",
      "Epoch 17/20\n",
      "7982/7982 [==============================] - 1s 105us/step - loss: 0.1239 - acc: 0.9564 - val_loss: 1.0647 - val_acc: 0.8060\n",
      "Epoch 18/20\n",
      "7982/7982 [==============================] - 1s 105us/step - loss: 0.1204 - acc: 0.9579 - val_loss: 1.0533 - val_acc: 0.8120\n",
      "Epoch 19/20\n",
      "7982/7982 [==============================] - 1s 105us/step - loss: 0.1114 - acc: 0.9588 - val_loss: 1.0572 - val_acc: 0.8070\n",
      "Epoch 20/20\n",
      "7982/7982 [==============================] - 1s 105us/step - loss: 0.1068 - acc: 0.9609 - val_loss: 1.0592 - val_acc: 0.8160\n"
     ]
    }
   ],
   "source": [
    "history = model.fit(partial_x_train, partial_y_train,\n",
    "                   epochs=20, batch_size=512, validation_data=(x_val,y_val))"
   ]
  },
  {
   "cell_type": "code",
   "execution_count": 12,
   "metadata": {},
   "outputs": [
    {
     "data": {
      "image/png": "[encoded data removed]",
      "text/plain": [
       "<Figure size 432x288 with 1 Axes>"
      ]
     },
     "metadata": {
      "needs_background": "light"
     },
     "output_type": "display_data"
    }
   ],
   "source": [
    "import matplotlib.pyplot as plt\n",
    "\n",
    "loss = history.history['loss']\n",
    "val_loss = history.history['val_loss']\n",
    "\n",
    "epochs = range(1, len(loss)+1)\n",
    "\n",
    "plt.plot(epochs, loss, 'bo', label='Training loss')\n",
    "plt.plot(epochs, val_loss, 'b', label='Validation loss')\n",
    "plt.title('Training and validation loss')\n",
    "plt.xlabel('epochs')\n",
    "plt.ylabel('loss')\n",
    "plt.legend()\n",
    "\n",
    "plt.show()"
   ]
  },
  {
   "cell_type": "code",
   "execution_count": 13,
   "metadata": {},
   "outputs": [
    {
     "data": {
      "image/png": "[encoded data removed]",
      "text/plain": [
       "<Figure size 432x288 with 1 Axes>"
      ]
     },
     "metadata": {
      "needs_background": "light"
     },
     "output_type": "display_data"
    }
   ],
   "source": [
    "plt.clf()\n",
    "\n",
    "acc = history.history['acc']\n",
    "val_acc = history.history['val_acc']\n",
    "\n",
    "plt.plot(epochs, acc, 'bo', label='Training acc')\n",
    "plt.plot(epochs, val_acc, 'b', label='Validation acc')\n",
    "plt.title('Training and validation acc')\n",
    "plt.xlabel('epochs')\n",
    "plt.ylabel('accuracy')\n",
    "plt.legend()\n",
    "\n",
    "plt.show()"
   ]
  },
  {
   "cell_type": "code",
   "execution_count": 16,
   "metadata": {
    "scrolled": false
   },
   "outputs": [
    {
     "name": "stdout",
     "output_type": "stream",
     "text": [
      "Train on 7982 samples, validate on 1000 samples\n",
      "Epoch 1/9\n",
      "7982/7982 [==============================] - 1s 122us/step - loss: 2.7385 - accuracy: 0.5249 - val_loss: 1.7797 - val_accuracy: 0.6370\n",
      "Epoch 2/9\n",
      "7982/7982 [==============================] - 1s 106us/step - loss: 1.4265 - accuracy: 0.7053 - val_loss: 1.2889 - val_accuracy: 0.7180\n",
      "Epoch 3/9\n",
      "7982/7982 [==============================] - 1s 105us/step - loss: 1.0345 - accuracy: 0.7794 - val_loss: 1.1049 - val_accuracy: 0.7680\n",
      "Epoch 4/9\n",
      "7982/7982 [==============================] - 1s 106us/step - loss: 0.8105 - accuracy: 0.8289 - val_loss: 1.0053 - val_accuracy: 0.7890\n",
      "Epoch 5/9\n",
      "7982/7982 [==============================] - 1s 105us/step - loss: 0.6387 - accuracy: 0.8715 - val_loss: 0.9466 - val_accuracy: 0.8000\n",
      "Epoch 6/9\n",
      "7982/7982 [==============================] - 1s 105us/step - loss: 0.5050 - accuracy: 0.8956 - val_loss: 0.8853 - val_accuracy: 0.8270\n",
      "Epoch 7/9\n",
      "7982/7982 [==============================] - 1s 107us/step - loss: 0.4041 - accuracy: 0.9168 - val_loss: 0.8909 - val_accuracy: 0.8120\n",
      "Epoch 8/9\n",
      "7982/7982 [==============================] - 1s 105us/step - loss: 0.3327 - accuracy: 0.9295 - val_loss: 0.8864 - val_accuracy: 0.8170\n",
      "Epoch 9/9\n",
      "7982/7982 [==============================] - 1s 105us/step - loss: 0.2740 - accuracy: 0.9402 - val_loss: 0.8670 - val_accuracy: 0.8150\n",
      "2246/2246 [==============================] - 0s 150us/step\n"
     ]
    }
   ],
   "source": [
    "model = models.Sequential()\n",
    "model.add(layers.Dense(64, activation='relu', input_shape=(10000,)))\n",
    "model.add(layers.Dense(64, activation='relu'))\n",
    "model.add(layers.Dense(46, activation='softmax'))\n",
    "\n",
    "model.compile(optimizer='rmsprop',\n",
    "             loss='categorical_crossentropy',\n",
    "             metrics=['accuracy'])\n",
    "model.fit(partial_x_train,\n",
    "         partial_y_train,\n",
    "         epochs=9,\n",
    "         batch_size=512,\n",
    "         validation_data=(x_val, y_val))\n",
    "results = model.evaluate(x_test, y_test)"
   ]
  },
  {
   "cell_type": "code",
   "execution_count": 17,
   "metadata": {},
   "outputs": [
    {
     "data": {
      "text/plain": [
       "[0.9883914375984552, 0.784060537815094]"
      ]
     },
     "execution_count": 17,
     "metadata": {},
     "output_type": "execute_result"
    }
   ],
   "source": [
    "results"
   ]
  },
  {
   "cell_type": "code",
   "execution_count": 18,
   "metadata": {},
   "outputs": [],
   "source": [
    "predictions = model.predict(x_test)"
   ]
  },
  {
   "cell_type": "code",
   "execution_count": 23,
   "metadata": {},
   "outputs": [
    {
     "name": "stdout",
     "output_type": "stream",
     "text": [
      "각 항목 길이 : (46,)\n",
      "원소의 합 : 1.0000001\n",
      "가장 확률이 높은 클래스 : 3\n"
     ]
    }
   ],
   "source": [
    "print('각 항목 길이 :',predictions[0].shape)\n",
    "print('원소의 합 :',np.sum(predictions[0]))\n",
    "print('가장 확률이 높은 클래스 :', np.argmax(predictions[0]))"
   ]
  }
 ],
 "metadata": {
  "kernelspec": {
   "display_name": "Python 3",
   "language": "python",
   "name": "python3"
  },
  "language_info": {
   "codemirror_mode": {
    "name": "ipython",
    "version": 3
   },
   "file_extension": ".py",
   "mimetype": "text/x-python",
   "name": "python",
   "nbconvert_exporter": "python",
   "pygments_lexer": "ipython3",
   "version": "3.7.0"
  }
 },
 "nbformat": 4,
 "nbformat_minor": 4
}
